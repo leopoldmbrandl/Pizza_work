{
 "cells": [
  {
   "cell_type": "code",
   "execution_count": 6,
   "id": "ee704288",
   "metadata": {
    "scrolled": true
   },
   "outputs": [],
   "source": [
    "import pandas as pd\n",
    "df1 = pd.read_csv('order_details.csv')\n",
    "df2 = pd.read_csv('order_id.csv')\n",
    "merged_df = pd.merge(df1, df2, on='order_id')\n",
    "merged_df.to_csv('merged1.csv', index=False)"
   ]
  },
  {
   "cell_type": "code",
   "execution_count": 7,
   "id": "07aaa817",
   "metadata": {
    "scrolled": true
   },
   "outputs": [],
   "source": [
    "df3 = pd.read_csv('pizz_type.csv')\n",
    "df4 = pd.read_csv('prices.csv')\n",
    "merged_df2 = pd.merge(df3, df4, on='pizza_type_id')\n",
    "merged_df2.to_csv('merged2.csv', index=False)"
   ]
  },
  {
   "cell_type": "code",
   "execution_count": 8,
   "id": "3ff630ee",
   "metadata": {},
   "outputs": [],
   "source": [
    "df5 = pd.read_csv('merged1.csv')\n",
    "df6 = pd.read_csv('merged2.csv')\n",
    "merged_ab = pd.merge(df5, df6, on='pizza_id')\n",
    "merged_ab.fillna('Unknown', inplace=True)\n",
    "merged_ab.to_csv('mergedfinal.csv', index=False)"
   ]
  },
  {
   "cell_type": "code",
   "execution_count": 10,
   "id": "55f16ae2",
   "metadata": {},
   "outputs": [],
   "source": [
    "df7 = pd.read_csv('merged1.csv')\n",
    "df8 = pd.read_csv('prices.csv')\n",
    "merged_df3 = pd.merge(df7, df8, on='pizza_id')\n",
    "merged_df3.to_csv('mergedimportant.csv', index=False)"
   ]
  },
  {
   "cell_type": "code",
   "execution_count": 11,
   "id": "a635ab13",
   "metadata": {},
   "outputs": [
    {
     "name": "stdout",
     "output_type": "stream",
     "text": [
      "False\n"
     ]
    }
   ],
   "source": [
    "username = 'Unknown'\n",
    "\n",
    "if username in open('mergedfinal.csv').read():\n",
    "    print(\"True\")\n",
    "else:\n",
    "    print(\"False\")"
   ]
  },
  {
   "cell_type": "code",
   "execution_count": null,
   "id": "8c792ef1",
   "metadata": {},
   "outputs": [],
   "source": []
  }
 ],
 "metadata": {
  "kernelspec": {
   "display_name": "Python 3",
   "language": "python",
   "name": "python3"
  },
  "language_info": {
   "codemirror_mode": {
    "name": "ipython",
    "version": 3
   },
   "file_extension": ".py",
   "mimetype": "text/x-python",
   "name": "python",
   "nbconvert_exporter": "python",
   "pygments_lexer": "ipython3",
   "version": "3.8.8"
  }
 },
 "nbformat": 4,
 "nbformat_minor": 5
}
