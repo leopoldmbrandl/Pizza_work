{
 "cells": [
  {
   "cell_type": "code",
   "execution_count": 16,
   "id": "416cd6f5",
   "metadata": {
    "scrolled": true
   },
   "outputs": [
    {
     "name": "stdout",
     "output_type": "stream",
     "text": [
      "      order_details_id  order_id        pizza_id  quantity        date  \\\n",
      "0                  357     146.0      hawaiian_m         1  2015-01-03   \n",
      "1                  355     146.0      cali_ckn_l         1  2015-01-03   \n",
      "2                  356     146.0   four_cheese_m         1  2015-01-03   \n",
      "3                  358     147.0    the_greek_xl         1  2015-01-03   \n",
      "4                  359     148.0  mediterraneo_s         1  2015-01-03   \n",
      "...                ...       ...             ...       ...         ...   \n",
      "3938             10976    4808.0   ckn_alfredo_m         1  2015-03-22   \n",
      "3939             10977    4808.0      hawaiian_l         1  2015-03-22   \n",
      "3940             10978    4808.0      hawaiian_s         1  2015-03-22   \n",
      "3941             10979    4809.0   five_cheese_l         1  2015-03-22   \n",
      "3942             10980    4809.0  mediterraneo_m         1  2015-03-22   \n",
      "\n",
      "          time  \n",
      "0     14:22:10  \n",
      "1     14:22:10  \n",
      "2     14:22:10  \n",
      "3     14:32:51  \n",
      "4     14:40:42  \n",
      "...        ...  \n",
      "3938  18:57:35  \n",
      "3939  18:57:35  \n",
      "3940  18:57:35  \n",
      "3941  19:18:35  \n",
      "3942  19:18:35  \n",
      "\n",
      "[3943 rows x 6 columns]\n"
     ]
    }
   ],
   "source": [
    "import pandas as pd\n",
    "df1 = pd.read_csv('order_details.csv')\n",
    "df2 = pd.read_csv('order_id.csv')\n",
    "merged_df = pd.merge(df1, df2, on='order_id')\n",
    "\n",
    "print(merged_df)"
   ]
  },
  {
   "cell_type": "code",
   "execution_count": 17,
   "id": "5ecf97c4",
   "metadata": {
    "scrolled": true
   },
   "outputs": [
    {
     "name": "stdout",
     "output_type": "stream",
     "text": [
      "   pizza_type_id                               name category  \\\n",
      "0        bbq_ckn         The Barbecue Chicken Pizza  Chicken   \n",
      "1        bbq_ckn         The Barbecue Chicken Pizza  Chicken   \n",
      "2        bbq_ckn         The Barbecue Chicken Pizza  Chicken   \n",
      "3       big_meat                 The Big Meat Pizza  Classic   \n",
      "4       big_meat                 The Big Meat Pizza  Classic   \n",
      "..           ...                                ...      ...   \n",
      "91     the_greek                    The Greek Pizza  Classic   \n",
      "92     the_greek                    The Greek Pizza  Classic   \n",
      "93    veggie_veg  The Vegetables + Vegetables Pizza   Veggie   \n",
      "94    veggie_veg  The Vegetables + Vegetables Pizza   Veggie   \n",
      "95    veggie_veg  The Vegetables + Vegetables Pizza   Veggie   \n",
      "\n",
      "                                          ingredients       pizza_id size  \\\n",
      "0   Barbecued Chicken, Red Peppers, Green Peppers,...      bbq_ckn_l    L   \n",
      "1   Barbecued Chicken, Red Peppers, Green Peppers,...      bbq_ckn_m    M   \n",
      "2   Barbecued Chicken, Red Peppers, Green Peppers,...      bbq_ckn_s    S   \n",
      "3   Bacon, Pepperoni, Italian Sausage, Chorizo Sau...     big_meat_l    L   \n",
      "4   Bacon, Pepperoni, Italian Sausage, Chorizo Sau...     big_meat_m    M   \n",
      "..                                                ...            ...  ...   \n",
      "91  Kalamata Olives, Feta Cheese, Tomatoes, Garlic...   the_greek_xl   XL   \n",
      "92  Kalamata Olives, Feta Cheese, Tomatoes, Garlic...  the_greek_xxl  XXL   \n",
      "93  Mushrooms, Tomatoes, Red Peppers, Green Pepper...   veggie_veg_l    L   \n",
      "94  Mushrooms, Tomatoes, Red Peppers, Green Pepper...   veggie_veg_m    M   \n",
      "95  Mushrooms, Tomatoes, Red Peppers, Green Pepper...   veggie_veg_s    S   \n",
      "\n",
      "                price  \n",
      "0               20,75  \n",
      "1               16,75  \n",
      "2               12,75  \n",
      "3                20,5  \n",
      "4                  16  \n",
      "..                ...  \n",
      "91               25,5  \n",
      "92  35,95000076293945  \n",
      "93              20,25  \n",
      "94                 16  \n",
      "95                 12  \n",
      "\n",
      "[96 rows x 7 columns]\n"
     ]
    }
   ],
   "source": [
    "df3 = pd.read_csv('pizz_type.csv')\n",
    "df4 = pd.read_csv('prices.csv')\n",
    "merged_df2 = pd.merge(df3, df4, on='pizza_type_id')\n",
    "print(merged_df2)"
   ]
  },
  {
   "cell_type": "code",
   "execution_count": 15,
   "id": "9eff9ea4",
   "metadata": {},
   "outputs": [
    {
     "ename": "KeyError",
     "evalue": "'order_id'",
     "output_type": "error",
     "traceback": [
      "\u001b[0;31m---------------------------------------------------------------------------\u001b[0m",
      "\u001b[0;31mKeyError\u001b[0m                                  Traceback (most recent call last)",
      "\u001b[0;32m<ipython-input-15-0af97e840aeb>\u001b[0m in \u001b[0;36m<module>\u001b[0;34m\u001b[0m\n\u001b[0;32m----> 1\u001b[0;31m \u001b[0mmerged_ab\u001b[0m \u001b[0;34m=\u001b[0m \u001b[0mpd\u001b[0m\u001b[0;34m.\u001b[0m\u001b[0mmerge\u001b[0m\u001b[0;34m(\u001b[0m\u001b[0mmerged_df\u001b[0m\u001b[0;34m,\u001b[0m \u001b[0mmerged_df2\u001b[0m\u001b[0;34m,\u001b[0m \u001b[0mon\u001b[0m\u001b[0;34m=\u001b[0m\u001b[0;34m'order_id'\u001b[0m\u001b[0;34m)\u001b[0m\u001b[0;34m\u001b[0m\u001b[0;34m\u001b[0m\u001b[0m\n\u001b[0m\u001b[1;32m      2\u001b[0m \u001b[0mprint\u001b[0m\u001b[0;34m(\u001b[0m\u001b[0mmerged_ab\u001b[0m\u001b[0;34m)\u001b[0m\u001b[0;34m\u001b[0m\u001b[0;34m\u001b[0m\u001b[0m\n",
      "\u001b[0;32m~/opt/anaconda3/lib/python3.8/site-packages/pandas/core/reshape/merge.py\u001b[0m in \u001b[0;36mmerge\u001b[0;34m(left, right, how, on, left_on, right_on, left_index, right_index, sort, suffixes, copy, indicator, validate)\u001b[0m\n\u001b[1;32m     72\u001b[0m     \u001b[0mvalidate\u001b[0m\u001b[0;34m=\u001b[0m\u001b[0;32mNone\u001b[0m\u001b[0;34m,\u001b[0m\u001b[0;34m\u001b[0m\u001b[0;34m\u001b[0m\u001b[0m\n\u001b[1;32m     73\u001b[0m ) -> \"DataFrame\":\n\u001b[0;32m---> 74\u001b[0;31m     op = _MergeOperation(\n\u001b[0m\u001b[1;32m     75\u001b[0m         \u001b[0mleft\u001b[0m\u001b[0;34m,\u001b[0m\u001b[0;34m\u001b[0m\u001b[0;34m\u001b[0m\u001b[0m\n\u001b[1;32m     76\u001b[0m         \u001b[0mright\u001b[0m\u001b[0;34m,\u001b[0m\u001b[0;34m\u001b[0m\u001b[0;34m\u001b[0m\u001b[0m\n",
      "\u001b[0;32m~/opt/anaconda3/lib/python3.8/site-packages/pandas/core/reshape/merge.py\u001b[0m in \u001b[0;36m__init__\u001b[0;34m(self, left, right, how, on, left_on, right_on, axis, left_index, right_index, sort, suffixes, copy, indicator, validate)\u001b[0m\n\u001b[1;32m    666\u001b[0m             \u001b[0mself\u001b[0m\u001b[0;34m.\u001b[0m\u001b[0mright_join_keys\u001b[0m\u001b[0;34m,\u001b[0m\u001b[0;34m\u001b[0m\u001b[0;34m\u001b[0m\u001b[0m\n\u001b[1;32m    667\u001b[0m             \u001b[0mself\u001b[0m\u001b[0;34m.\u001b[0m\u001b[0mjoin_names\u001b[0m\u001b[0;34m,\u001b[0m\u001b[0;34m\u001b[0m\u001b[0;34m\u001b[0m\u001b[0m\n\u001b[0;32m--> 668\u001b[0;31m         ) = self._get_merge_keys()\n\u001b[0m\u001b[1;32m    669\u001b[0m \u001b[0;34m\u001b[0m\u001b[0m\n\u001b[1;32m    670\u001b[0m         \u001b[0;31m# validate the merge keys dtypes. We may need to coerce\u001b[0m\u001b[0;34m\u001b[0m\u001b[0;34m\u001b[0m\u001b[0;34m\u001b[0m\u001b[0m\n",
      "\u001b[0;32m~/opt/anaconda3/lib/python3.8/site-packages/pandas/core/reshape/merge.py\u001b[0m in \u001b[0;36m_get_merge_keys\u001b[0;34m(self)\u001b[0m\n\u001b[1;32m   1031\u001b[0m                     \u001b[0;32mif\u001b[0m \u001b[0;32mnot\u001b[0m \u001b[0mis_rkey\u001b[0m\u001b[0;34m(\u001b[0m\u001b[0mrk\u001b[0m\u001b[0;34m)\u001b[0m\u001b[0;34m:\u001b[0m\u001b[0;34m\u001b[0m\u001b[0;34m\u001b[0m\u001b[0m\n\u001b[1;32m   1032\u001b[0m                         \u001b[0;32mif\u001b[0m \u001b[0mrk\u001b[0m \u001b[0;32mis\u001b[0m \u001b[0;32mnot\u001b[0m \u001b[0;32mNone\u001b[0m\u001b[0;34m:\u001b[0m\u001b[0;34m\u001b[0m\u001b[0;34m\u001b[0m\u001b[0m\n\u001b[0;32m-> 1033\u001b[0;31m                             \u001b[0mright_keys\u001b[0m\u001b[0;34m.\u001b[0m\u001b[0mappend\u001b[0m\u001b[0;34m(\u001b[0m\u001b[0mright\u001b[0m\u001b[0;34m.\u001b[0m\u001b[0m_get_label_or_level_values\u001b[0m\u001b[0;34m(\u001b[0m\u001b[0mrk\u001b[0m\u001b[0;34m)\u001b[0m\u001b[0;34m)\u001b[0m\u001b[0;34m\u001b[0m\u001b[0;34m\u001b[0m\u001b[0m\n\u001b[0m\u001b[1;32m   1034\u001b[0m                         \u001b[0;32melse\u001b[0m\u001b[0;34m:\u001b[0m\u001b[0;34m\u001b[0m\u001b[0;34m\u001b[0m\u001b[0m\n\u001b[1;32m   1035\u001b[0m                             \u001b[0;31m# work-around for merge_asof(right_index=True)\u001b[0m\u001b[0;34m\u001b[0m\u001b[0;34m\u001b[0m\u001b[0;34m\u001b[0m\u001b[0m\n",
      "\u001b[0;32m~/opt/anaconda3/lib/python3.8/site-packages/pandas/core/generic.py\u001b[0m in \u001b[0;36m_get_label_or_level_values\u001b[0;34m(self, key, axis)\u001b[0m\n\u001b[1;32m   1682\u001b[0m             \u001b[0mvalues\u001b[0m \u001b[0;34m=\u001b[0m \u001b[0mself\u001b[0m\u001b[0;34m.\u001b[0m\u001b[0maxes\u001b[0m\u001b[0;34m[\u001b[0m\u001b[0maxis\u001b[0m\u001b[0;34m]\u001b[0m\u001b[0;34m.\u001b[0m\u001b[0mget_level_values\u001b[0m\u001b[0;34m(\u001b[0m\u001b[0mkey\u001b[0m\u001b[0;34m)\u001b[0m\u001b[0;34m.\u001b[0m\u001b[0m_values\u001b[0m\u001b[0;34m\u001b[0m\u001b[0;34m\u001b[0m\u001b[0m\n\u001b[1;32m   1683\u001b[0m         \u001b[0;32melse\u001b[0m\u001b[0;34m:\u001b[0m\u001b[0;34m\u001b[0m\u001b[0;34m\u001b[0m\u001b[0m\n\u001b[0;32m-> 1684\u001b[0;31m             \u001b[0;32mraise\u001b[0m \u001b[0mKeyError\u001b[0m\u001b[0;34m(\u001b[0m\u001b[0mkey\u001b[0m\u001b[0;34m)\u001b[0m\u001b[0;34m\u001b[0m\u001b[0;34m\u001b[0m\u001b[0m\n\u001b[0m\u001b[1;32m   1685\u001b[0m \u001b[0;34m\u001b[0m\u001b[0m\n\u001b[1;32m   1686\u001b[0m         \u001b[0;31m# Check for duplicates\u001b[0m\u001b[0;34m\u001b[0m\u001b[0;34m\u001b[0m\u001b[0;34m\u001b[0m\u001b[0m\n",
      "\u001b[0;31mKeyError\u001b[0m: 'order_id'"
     ]
    }
   ],
   "source": [
    "merged_ab = pd.merge(merged_df, merged_df2, on='order_id')\n",
    "print(merged_ab)"
   ]
  },
  {
   "cell_type": "code",
   "execution_count": null,
   "id": "d636a4c2",
   "metadata": {},
   "outputs": [],
   "source": []
  },
  {
   "cell_type": "code",
   "execution_count": null,
   "id": "41f46010",
   "metadata": {},
   "outputs": [],
   "source": []
  }
 ],
 "metadata": {
  "kernelspec": {
   "display_name": "Python 3",
   "language": "python",
   "name": "python3"
  },
  "language_info": {
   "codemirror_mode": {
    "name": "ipython",
    "version": 3
   },
   "file_extension": ".py",
   "mimetype": "text/x-python",
   "name": "python",
   "nbconvert_exporter": "python",
   "pygments_lexer": "ipython3",
   "version": "3.8.8"
  }
 },
 "nbformat": 4,
 "nbformat_minor": 5
}
